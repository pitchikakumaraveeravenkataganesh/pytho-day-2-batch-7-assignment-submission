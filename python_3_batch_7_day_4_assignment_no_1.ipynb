{
  "nbformat": 4,
  "nbformat_minor": 0,
  "metadata": {
    "colab": {
      "name": "python 3 batch 7 day 4 assignment no 1",
      "provenance": [],
      "authorship_tag": "ABX9TyPsTDjpXpMj1Dtk5315L43F",
      "include_colab_link": true
    },
    "kernelspec": {
      "name": "python3",
      "display_name": "Python 3"
    }
  },
  "cells": [
    {
      "cell_type": "markdown",
      "metadata": {
        "id": "view-in-github",
        "colab_type": "text"
      },
      "source": [
        "<a href=\"https://colab.research.google.com/github/pitchikakumaraveeravenkataganesh/pytho-day-2-batch-7-assignment-submission/blob/master/python_3_batch_7_day_4_assignment_no_1.ipynb\" target=\"_parent\"><img src=\"https://colab.research.google.com/assets/colab-badge.svg\" alt=\"Open In Colab\"/></a>"
      ]
    },
    {
      "cell_type": "code",
      "metadata": {
        "id": "cMzQ-2PExZ7q",
        "colab_type": "code",
        "colab": {
          "base_uri": "https://localhost:8080/",
          "height": 340
        },
        "outputId": "36ff8077-5da7-4aef-b60f-c3edff811415"
      },
      "source": [
        "#programm to find armstrong number at given interval\n",
        "\n",
        "\n",
        "lower= 1042000\n",
        "upper= 702648265\n",
        "\n",
        "for num in range(lower,upper+1):\n",
        "  #order of number\n",
        "  order= len(str(num))\n",
        "\n",
        "  #initialize sum\n",
        "  sum=0\n",
        "  temp= num\n",
        "  while temp>0:\n",
        "    digit=temp%10\n",
        "    sum+=digit**order\n",
        "    temp//=10\n",
        "    if num == sum:\n",
        "      print(num)"
      ],
      "execution_count": null,
      "outputs": [
        {
          "output_type": "stream",
          "text": [
            "1741725\n",
            "2097280\n",
            "2097281\n",
            "3278756\n",
            "4210818\n",
            "4782969\n",
            "4861095\n",
            "9800817\n",
            "9926315\n",
            "16790338\n",
            "16790338\n",
            "21816066\n",
            "24678050\n",
            "24678051\n",
            "26682755\n",
            "88593477\n",
            "134217728\n",
            "146511208\n",
            "178477585\n"
          ],
          "name": "stdout"
        }
      ]
    }
  ]
}
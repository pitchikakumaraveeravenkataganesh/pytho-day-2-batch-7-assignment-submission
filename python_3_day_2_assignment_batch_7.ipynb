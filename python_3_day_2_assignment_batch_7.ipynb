{
  "nbformat": 4,
  "nbformat_minor": 0,
  "metadata": {
    "colab": {
      "name": "python 3 day 2 assignment batch 7",
      "provenance": [],
      "authorship_tag": "ABX9TyOmjcF0aj7nxz27KYwN3rGZ",
      "include_colab_link": true
    },
    "kernelspec": {
      "name": "python3",
      "display_name": "Python 3"
    }
  },
  "cells": [
    {
      "cell_type": "markdown",
      "metadata": {
        "id": "view-in-github",
        "colab_type": "text"
      },
      "source": [
        "<a href=\"https://colab.research.google.com/github/pitchikakumaraveeravenkataganesh/pytho-day-2-batch-7-assignment-submission/blob/master/python_3_day_2_assignment_batch_7.ipynb\" target=\"_parent\"><img src=\"https://colab.research.google.com/assets/colab-badge.svg\" alt=\"Open In Colab\"/></a>"
      ]
    },
    {
      "cell_type": "code",
      "metadata": {
        "id": "OIeEWwODgJ6h",
        "colab_type": "code",
        "colab": {
          "base_uri": "https://localhost:8080/",
          "height": 34
        },
        "outputId": "b510fad9-bed6-4bb3-8da3-b3323d0d79c0"
      },
      "source": [
        "\n",
        "\n",
        "#adds list element as values of list\n",
        "list=['mathematics','chemistry',1977,2000]\n",
        "list.append(20544)\n",
        "print(list)\n"
      ],
      "execution_count": 28,
      "outputs": [
        {
          "output_type": "stream",
          "text": [
            "['mathematics', 'chemistry', 1977, 2000, 20544]\n"
          ],
          "name": "stdout"
        }
      ]
    },
    {
      "cell_type": "code",
      "metadata": {
        "id": "KaU0qE9Bj1Wk",
        "colab_type": "code",
        "colab": {
          "base_uri": "https://localhost:8080/",
          "height": 34
        },
        "outputId": "ca031abe-4fba-43af-8b4d-4d8c12b770b3"
      },
      "source": [
        "#insert an element to list\n",
        "list=['mathematics','chemistry',1977,2000]\n",
        "#insert at index 2 value 10877\n",
        "list.insert(2,10087)\n",
        "print(list)"
      ],
      "execution_count": 30,
      "outputs": [
        {
          "output_type": "stream",
          "text": [
            "['mathematics', 'chemistry', 10087, 1977, 2000]\n"
          ],
          "name": "stdout"
        }
      ]
    },
    {
      "cell_type": "markdown",
      "metadata": {
        "id": "4PuefneelkUF",
        "colab_type": "text"
      },
      "source": [
        ""
      ]
    },
    {
      "cell_type": "code",
      "metadata": {
        "id": "h0FmkBayg2JJ",
        "colab_type": "code",
        "colab": {
          "base_uri": "https://localhost:8080/",
          "height": 34
        },
        "outputId": "279d7208-9370-498d-d0b6-94ffa2e39efd"
      },
      "source": [
        "#extend add content to list2 to the end of list1\n",
        "list1=[1,2,3]\n",
        "list2=[2,3,4,5]\n",
        "#add list2 to list1\n",
        "list1.extend(list2)\n",
        "print(list1)\n"
      ],
      "execution_count": 31,
      "outputs": [
        {
          "output_type": "stream",
          "text": [
            "[1, 2, 3, 2, 3, 4, 5]\n"
          ],
          "name": "stdout"
        }
      ]
    },
    {
      "cell_type": "code",
      "metadata": {
        "id": "XHPvW_EAnJoi",
        "colab_type": "code",
        "colab": {
          "base_uri": "https://localhost:8080/",
          "height": 34
        },
        "outputId": "034e7ef5-1bdb-4ab9-8fd0-fb394de907a7"
      },
      "source": [
        "#add list1 list2 now\n",
        "list2.extend(list1)\n",
        "print(list2)"
      ],
      "execution_count": 32,
      "outputs": [
        {
          "output_type": "stream",
          "text": [
            "[2, 3, 4, 5, 1, 2, 3, 2, 3, 4, 5]\n"
          ],
          "name": "stdout"
        }
      ]
    },
    {
      "cell_type": "code",
      "metadata": {
        "id": "ZhetrCd8naZJ",
        "colab_type": "code",
        "colab": {
          "base_uri": "https://localhost:8080/",
          "height": 34
        },
        "outputId": "90de8104-2100-4f12-be19-869411da4cc5"
      },
      "source": [
        "#caluclate sum of all the elements of list\n",
        "list=[1,2,3,4,5]\n",
        "print(sum(list))"
      ],
      "execution_count": 33,
      "outputs": [
        {
          "output_type": "stream",
          "text": [
            "15\n"
          ],
          "name": "stdout"
        }
      ]
    },
    {
      "cell_type": "code",
      "metadata": {
        "id": "bamIK5SIn4vP",
        "colab_type": "code",
        "colab": {
          "base_uri": "https://localhost:8080/",
          "height": 34
        },
        "outputId": "f642a156-81ba-4f0c-afd5-041250b3350a"
      },
      "source": [
        "#caluclate minimum of all the elements of list\n",
        "list=[2.3,4.445,3,5.33,1.054,2.5]\n",
        "print(min(list))"
      ],
      "execution_count": 34,
      "outputs": [
        {
          "output_type": "stream",
          "text": [
            "1.054\n"
          ],
          "name": "stdout"
        }
      ]
    },
    {
      "cell_type": "code",
      "metadata": {
        "id": "O7cmRjVuobNP",
        "colab_type": "code",
        "colab": {
          "base_uri": "https://localhost:8080/",
          "height": 34
        },
        "outputId": "e4cccc51-ae13-49b5-84a6-b6f4689b1692"
      },
      "source": [
        "#caluclate maximum of all  the elements of list\n",
        "list=[2.3,4.445,3,5.33,1.054,2.5]\n",
        "print(max(list))"
      ],
      "execution_count": 35,
      "outputs": [
        {
          "output_type": "stream",
          "text": [
            "5.33\n"
          ],
          "name": "stdout"
        }
      ]
    },
    {
      "cell_type": "markdown",
      "metadata": {
        "id": "Db2ABUWtoz04",
        "colab_type": "text"
      },
      "source": [
        "# dictionary and its default functions\n"
      ]
    },
    {
      "cell_type": "code",
      "metadata": {
        "id": "GsOiz_TypAoR",
        "colab_type": "code",
        "colab": {
          "base_uri": "https://localhost:8080/",
          "height": 51
        },
        "outputId": "cd888a52-5ece-45bc-f52f-0b1a1b740fea"
      },
      "source": [
        "#python programm to show working of set default() methods in dictionary\n",
        "#dictionary with single item \n",
        "Dictionary1 ={'A':'Geeks','B':'For','C':'Geeks'}\n",
        "#using setdefault()method\n",
        "Third_value=Dictionary1.setdefault('C')\n",
        "print(\"Dictionary:\",Dictionary1)\n",
        "print(\"Third_value:\",Third_value)"
      ],
      "execution_count": 53,
      "outputs": [
        {
          "output_type": "stream",
          "text": [
            "Dictionary: {'A': 'Geeks', 'B': 'For', 'C': 'Geeks'}\n",
            "Third_value: Geeks\n"
          ],
          "name": "stdout"
        }
      ]
    },
    {
      "cell_type": "code",
      "metadata": {
        "id": "lLGm-tHVtxzP",
        "colab_type": "code",
        "colab": {
          "base_uri": "https://localhost:8080/",
          "height": 85
        },
        "outputId": "2e168100-1145-4419-945a-40fe9e7402b6"
      },
      "source": [
        "#EAMPLE2:#PYTHON PROGRAMM TO SHOW WORKING\n",
        "#OF SETDEFAULT()METHOD IN DICTIONARY\n",
        "#Dictionary  with  single item \n",
        "Dictionary1={'A':'Geeks','B':'For'}\n",
        "#using setdefault()method\n",
        "#when key is not in the dictionary\n",
        "Third_value=Dictionary1.setdefault('C')\n",
        "print(\"Dictionary:\",Dictionary1)\n",
        "print(\"Third_value:\",Third_value)\n",
        "#using setdefault()method\n",
        "#when key is not in the Dictionary \n",
        "#but default value is provided \n",
        "Fourth_value=Dictionary1.setdefault('D','Geeks')\n",
        "print (\"Dictionary:\",Dictionary1)\n",
        "print(\"Fourth_value:\",Fourth_value)"
      ],
      "execution_count": 56,
      "outputs": [
        {
          "output_type": "stream",
          "text": [
            "Dictionary: {'A': 'Geeks', 'B': 'For', 'C': None}\n",
            "Third_value: None\n",
            "Dictionary: {'A': 'Geeks', 'B': 'For', 'C': None, 'D': 'Geeks'}\n",
            "Fourth_value: Geeks\n"
          ],
          "name": "stdout"
        }
      ]
    },
    {
      "cell_type": "markdown",
      "metadata": {
        "id": "eL4pJ8cuxJQw",
        "colab_type": "text"
      },
      "source": [
        "sets and its default functions\n"
      ]
    },
    {
      "cell_type": "code",
      "metadata": {
        "id": "nn9kMf95xQrh",
        "colab_type": "code",
        "colab": {
          "base_uri": "https://localhost:8080/",
          "height": 51
        },
        "outputId": "fa9a1fb0-cfc4-4f39-89c2-5ec0fc0ef48a"
      },
      "source": [
        "#sets is a combination of list and dictionary\n",
        "#different type of sets in python \n",
        "#set of integer \n",
        "my_set={1,2,3}\n",
        "print (my_set)\n",
        "#set of mixed data types\n",
        "my_set={1.0,\"hello\",(1,2,3)}\n",
        "print (my_set)\n"
      ],
      "execution_count": 57,
      "outputs": [
        {
          "output_type": "stream",
          "text": [
            "{1, 2, 3}\n",
            "{'hello', 1.0, (1, 2, 3)}\n"
          ],
          "name": "stdout"
        }
      ]
    },
    {
      "cell_type": "markdown",
      "metadata": {
        "id": "_j3OhmalySYJ",
        "colab_type": "text"
      },
      "source": [
        "set union\n"
      ]
    },
    {
      "cell_type": "code",
      "metadata": {
        "id": "lE5Xs-U1yVZQ",
        "colab_type": "code",
        "colab": {
          "base_uri": "https://localhost:8080/",
          "height": 34
        },
        "outputId": "ea06f0f6-f4d2-4627-aa42-d526d527fc70"
      },
      "source": [
        "#intesection of sets \n",
        "#initialize Aand B\n",
        "A={1,2,3,4,5}\n",
        "B={4,5,6,7,8}\n",
        "#use & operator \n",
        "print (A&B)"
      ],
      "execution_count": 66,
      "outputs": [
        {
          "output_type": "stream",
          "text": [
            "{4, 5}\n"
          ],
          "name": "stdout"
        }
      ]
    },
    {
      "cell_type": "markdown",
      "metadata": {
        "id": "pRx9MHMW0Cro",
        "colab_type": "text"
      },
      "source": [
        "diffrence between two sets"
      ]
    },
    {
      "cell_type": "code",
      "metadata": {
        "id": "ZD9aqZqC0HZP",
        "colab_type": "code",
        "colab": {
          "base_uri": "https://localhost:8080/",
          "height": 34
        },
        "outputId": "1448dc81-058b-4fbd-aa50-27c5bb218867"
      },
      "source": [
        "#differnce of two sets \n",
        "#intailizing A and B\n",
        "A={1,2,3,4,5}\n",
        "B={4,5,6,7,8}\n",
        "#use - operator on A\n",
        "print (A-B)"
      ],
      "execution_count": 67,
      "outputs": [
        {
          "output_type": "stream",
          "text": [
            "{1, 2, 3}\n"
          ],
          "name": "stdout"
        }
      ]
    },
    {
      "cell_type": "markdown",
      "metadata": {
        "id": "pweOgVj82heQ",
        "colab_type": "text"
      },
      "source": [
        "tuple and its default functions\n"
      ]
    },
    {
      "cell_type": "code",
      "metadata": {
        "id": "_0aiD1CX2nrI",
        "colab_type": "code",
        "colab": {
          "base_uri": "https://localhost:8080/",
          "height": 85
        },
        "outputId": "a310cd6e-93ce-4232-9b73-71b43d59c3ae"
      },
      "source": [
        "#tuple() function\n",
        "#python3 the use of tuple() function \n",
        "#when parameter is not used \n",
        "tuple1=tuple()\n",
        "print(tuple1)\n",
        "#when an iterable\n",
        "list1=[1,2,3,4,5]\n",
        "tuple2=tuple(list1)\n",
        "print(tuple2)\n",
        "#when an iterable\n",
        "dict={1:'one',2: 'two'}\n",
        "tuple3=tuple(dict)\n",
        "print(tuple3)\n",
        "#when an iterable\n",
        "string=\"ganesh\"\n",
        "tuple4=tuple(string)\n",
        "print (tuple4)\n"
      ],
      "execution_count": 71,
      "outputs": [
        {
          "output_type": "stream",
          "text": [
            "()\n",
            "(1, 2, 3, 4, 5)\n",
            "(1, 2)\n",
            "('g', 'a', 'n', 'e', 's', 'h')\n"
          ],
          "name": "stdout"
        }
      ]
    },
    {
      "cell_type": "code",
      "metadata": {
        "id": "FpdpSOpm14vH",
        "colab_type": "code",
        "colab": {}
      },
      "source": [
        ""
      ],
      "execution_count": null,
      "outputs": []
    },
    {
      "cell_type": "markdown",
      "metadata": {
        "id": "YzlqSlry6Arr",
        "colab_type": "text"
      },
      "source": [
        "string and its default functions\n"
      ]
    },
    {
      "cell_type": "code",
      "metadata": {
        "id": "6MY3sYS76GUH",
        "colab_type": "code",
        "colab": {
          "base_uri": "https://localhost:8080/",
          "height": 85
        },
        "outputId": "659fecbd-84dd-4a5b-8e6b-9d0cb17d4eb5"
      },
      "source": [
        "#a string is a sequence of characters \n",
        "#creat  string in python \n",
        "my_string='hello'\n",
        "print (my_string)\n",
        "my_string=\"hello\"\n",
        "print (my_string)\n",
        "my_string='''hello'''\n",
        "print (my_string)\n",
        "my_string=\"\"\"hello,welcome to python \"\"\"\n",
        "print (my_string)"
      ],
      "execution_count": 72,
      "outputs": [
        {
          "output_type": "stream",
          "text": [
            "hello\n",
            "hello\n",
            "hello\n",
            "hello,welcome to python \n"
          ],
          "name": "stdout"
        }
      ]
    },
    {
      "cell_type": "markdown",
      "metadata": {
        "id": "HAYZqKFZ8Lys",
        "colab_type": "text"
      },
      "source": [
        "acess characters to string "
      ]
    },
    {
      "cell_type": "code",
      "metadata": {
        "id": "DRv8sHQg8UZw",
        "colab_type": "code",
        "colab": {
          "base_uri": "https://localhost:8080/",
          "height": 102
        },
        "outputId": "ee7837a2-7992-4e80-e70a-b812ef0bf757"
      },
      "source": [
        "#acessing string characters in python \n",
        "str='programiz'\n",
        "print('str=',str)\n",
        "#first character \n",
        "print ('str[0]=',str [0])\n",
        "#last character\n",
        "print('str [-1]=',str [-1])\n",
        "#slicing 2nd to 5th character \n",
        "print ('str[1:5]=',str[1:5])\n",
        "#slicing 6to 2nd last character \n",
        "print ('str [5:-2]=',str[5:-2])"
      ],
      "execution_count": 75,
      "outputs": [
        {
          "output_type": "stream",
          "text": [
            "str= programiz\n",
            "str[0]= p\n",
            "str [-1]= z\n",
            "str[1:5]= rogr\n",
            "str [5:-2]= am\n"
          ],
          "name": "stdout"
        }
      ]
    },
    {
      "cell_type": "markdown",
      "metadata": {
        "id": "9buGVR2e-OCj",
        "colab_type": "text"
      },
      "source": [
        "iterating through a string"
      ]
    },
    {
      "cell_type": "code",
      "metadata": {
        "id": "1rI_12KD-TKe",
        "colab_type": "code",
        "colab": {
          "base_uri": "https://localhost:8080/",
          "height": 204
        },
        "outputId": "30fb2e53-9484-4d4d-c98c-4d4f915730ef"
      },
      "source": [
        "#itrating through a string \n",
        "count=0\n",
        "for letter in 'Hello World':\n",
        "  if (letter == 'l'):\n",
        "    count+=1\n",
        "  print(count,'letters found')\n"
      ],
      "execution_count": 105,
      "outputs": [
        {
          "output_type": "stream",
          "text": [
            "0 letters found\n",
            "0 letters found\n",
            "1 letters found\n",
            "2 letters found\n",
            "2 letters found\n",
            "2 letters found\n",
            "2 letters found\n",
            "2 letters found\n",
            "2 letters found\n",
            "3 letters found\n",
            "3 letters found\n"
          ],
          "name": "stdout"
        }
      ]
    }
  ]
}